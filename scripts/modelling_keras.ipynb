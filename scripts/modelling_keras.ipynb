{
 "cells": [
  {
   "cell_type": "markdown",
   "metadata": {
    "_cell_guid": "53e4cfb1-4316-46d1-a753-7d4045bb4da2",
    "_uuid": "083760abcfaab135111dbed019a0d630134f30a2"
   },
   "source": [
    "# Introduction\n",
    "\n",
    "\n",
    "\n",
    "# Starter Code\n",
    "\n",
    "## Data Preparation\n"
   ]
  },
  {
   "cell_type": "code",
   "execution_count": 14,
   "metadata": {},
   "outputs": [],
   "source": [
    "import numpy as np\n",
    "import pandas as pd\n",
    "import keras\n",
    "import tensorflow as tf\n",
    "from sklearn.model_selection import train_test_split\n",
    "from sklearn import preprocessing\n",
    "from sklearn import metrics\n",
    "import csv\n",
    "from imblearn.over_sampling import SMOTE\n",
    "from imblearn.combine import SMOTEENN\n",
    "\n",
    "TARGET = 'project_is_approved'\n",
    "EXCLUDE_FEATURES = ['id', 'school_state', 'project_subject_subcategories']"
   ]
  },
  {
   "cell_type": "code",
   "execution_count": 15,
   "metadata": {},
   "outputs": [],
   "source": [
    "# read data sets\n",
    "trainset = pd.read_csv('E:/DonorsChooseProject/outputs/train.csv')\n",
    "validset = pd.read_csv('E:/DonorsChooseProject/outputs/test.csv')"
   ]
  },
  {
   "cell_type": "code",
   "execution_count": 16,
   "metadata": {},
   "outputs": [],
   "source": [
    "# create x matrix and y vector\n",
    "EXCLUDE_FEATURES.append(TARGET)\n",
    "features = [var for var in list(trainset) if var not in EXCLUDE_FEATURES]\n",
    "\n",
    "y = pd.get_dummies(trainset.loc[:, TARGET])['Approved']\n",
    "y_valid = pd.get_dummies(validset.loc[:, TARGET])['Approved']\n",
    "x = trainset.loc[:, features]\n",
    "x_valid = validset.loc[:, features]"
   ]
  },
  {
   "cell_type": "code",
   "execution_count": 17,
   "metadata": {},
   "outputs": [],
   "source": [
    "# split x to train/test\n",
    "x_train, x_test, y_train, y_test = train_test_split(x, y,\n",
    "                                                    test_size = .2,\n",
    "                                                    random_state = 2911)\n",
    "del x, y"
   ]
  },
  {
   "cell_type": "code",
   "execution_count": 18,
   "metadata": {},
   "outputs": [],
   "source": [
    "# # standard scaler from the trainset\n",
    "# scaler = preprocessing.StandardScaler().fit(x_train)\n",
    "\n",
    "# # apply to x_train and x_test\n",
    "# x_train = scaler.transform(x_train)\n",
    "# x_test = scaler.transform(x_test)\n",
    "# x_valid = scaler.transform(x_valid)"
   ]
  },
  {
   "cell_type": "code",
   "execution_count": 19,
   "metadata": {},
   "outputs": [],
   "source": [
    "# apply smote\n",
    "sm = SMOTE(random_state = 2911)\n",
    "x_train_res, y_train_res = sm.fit_sample(x_train, y_train)"
   ]
  },
  {
   "cell_type": "markdown",
   "metadata": {
    "_cell_guid": "ccf0a6ed-6579-4c32-8898-1a41857249f9",
    "_uuid": "d485ab8f82c9308f1bdb06da4c8b7c8e0feaa965"
   },
   "source": [
    "## Sample Model Code\n",
    "\n",
    "```\n",
    "fashion_model = Sequential()\n",
    "fashion_model.add(Conv2D(12, kernel_size=(3, 3), strides=2,\n",
    "                 activation='relu',\n",
    "                 input_shape=(img_rows, img_cols, 1)))\n",
    "fashion_model.add(Conv2D(12, (3, 3), strides=2, activation='relu'))\n",
    "fashion_model.add(Flatten())\n",
    "fashion_model.add(Dense(128, activation='relu'))\n",
    "fashion_model.add(Dense(num_classes, activation='softmax'))\n",
    "\n",
    "fashion_model.compile(loss=keras.losses.categorical_crossentropy,\n",
    "              optimizer='adam',\n",
    "              metrics=['accuracy'])\n",
    "\n",
    "fashion_model.fit(train_x, train_y,\n",
    "          batch_size=batch_size,\n",
    "          epochs=epochs,\n",
    "          validation_split = 0.2)\n",
    "```"
   ]
  },
  {
   "cell_type": "markdown",
   "metadata": {
    "_cell_guid": "97fdec45-36d0-45cd-8273-3765c477ef66",
    "_uuid": "8fff3f44f63059c6451d9b7a71cee61641d6622a"
   },
   "source": [
    "# Specify the model\n",
    "Specify, compile and fit a model `donor_model`."
   ]
  },
  {
   "cell_type": "code",
   "execution_count": 26,
   "metadata": {
    "_cell_guid": "3d88fc9c-e4c1-4f97-b2b5-1f2c1bd079c6",
    "_uuid": "3fcdca52b62a612b5f9c70e649a5f2b7e3b27a5a"
   },
   "outputs": [],
   "source": [
    "from keras.models import Sequential\n",
    "from keras.layers import Dense, Flatten, Conv2D, Dropout\n",
    "\n",
    "# model <- keras_model_sequential() \n",
    "# model %>% \n",
    "#   layer_dense(units = 256, activation = 'relu', input_shape = c(n_features), kernel_initializer = 'glorot_uniform') %>% \n",
    "#   layer_dropout(rate = 0) %>%\n",
    "#   layer_dense(units = 128, activation = 'relu', kernel_initializer = 'glorot_uniform') %>% \n",
    "#   layer_dropout(rate = 0) %>%\n",
    "#   layer_dense(units = 64, activation = 'relu', kernel_initializer = 'glorot_uniform') %>% \n",
    "#   layer_dropout(rate = 0) %>%\n",
    "#   layer_dense(units = 1, kernel_initializer = 'glorot_uniform', activation = 'sigmoid')\n",
    "\n",
    "def donor_model():\n",
    "    donor_model = Sequential()\n",
    "    # Specify the rest of the model\n",
    "#     donor_model.add(Dense(512, activation = 'relu', input_dim = x_train.shape[1]))\n",
    "#     Dropout(0.5)\n",
    "    donor_model.add(Dense(256, activation = 'relu', input_dim = x_train.shape[1]))\n",
    "    Dropout(0.5)\n",
    "#     donor_model.add(Dense(128, activation = 'relu'))\n",
    "#     Dropout(0.5)\n",
    "#     donor_model.add(Dense(64, activation = 'relu'))\n",
    "#     Dropout(0.5)\n",
    "#     donor_model.add(Dense(32, activation = 'relu'))\n",
    "#     Dropout(0.5)\n",
    "#     donor_model.add(Dense(16, activation = 'relu'))\n",
    "#     Dropout(0.5)\n",
    "#     donor_model.add(Dense(8, activation = 'relu'))\n",
    "    donor_model.add(Dense(1, activation = 'sigmoid'))\n",
    "\n",
    "    # Compile the model\n",
    "    donor_model.compile(loss = keras.losses.binary_crossentropy,\n",
    "                        optimizer = keras.optimizers.Adam(lr = 0.00001), # lr = 0.000001),\n",
    "                        metrics = ['accuracy'])\n",
    "    \n",
    "    return donor_model\n"
   ]
  },
  {
   "cell_type": "code",
   "execution_count": 38,
   "metadata": {},
   "outputs": [],
   "source": [
    "# https://machinelearningmastery.com/use-keras-deep-learning-models-scikit-learn-python/\n",
    "from keras.wrappers.scikit_learn import KerasClassifier\n",
    "from sklearn.model_selection import StratifiedKFold\n",
    "from sklearn.model_selection import cross_val_score\n",
    "from sklearn.pipeline import Pipeline\n",
    "\n",
    "\n",
    "# sm = SMOTE(random_state = 2911)\n",
    "# smote_enn = SMOTEENN(smote = sm)\n",
    "\n",
    "estimators = []\n",
    "estimators.append(('standardize', preprocessing.StandardScaler()))\n",
    "estimators.append(('rnn', KerasClassifier(build_fn = donor_model, epochs = 12, batch_size = 100, verbose = 2))) # epochs = 50\n",
    "\n",
    "pipeline = Pipeline(estimators)\n",
    "\n",
    "# # evaluate using 10-fold cross validation\n",
    "# kfold = StratifiedKFold(n_splits = 3, shuffle = True, random_state = 2911)\n",
    "# results = cross_val_score(pipeline, x_train_res, y_train_res, cv = kfold)\n",
    "\n",
    "# print(\"Standardized: %.2f%% (%.2f%%)\" % (results.mean()*100, results.std()*100))"
   ]
  },
  {
   "cell_type": "code",
   "execution_count": 39,
   "metadata": {},
   "outputs": [
    {
     "name": "stdout",
     "output_type": "stream",
     "text": [
      "Epoch 1/12\n",
      " - 3s - loss: 0.8635 - acc: 0.5441\n",
      "Epoch 2/12\n",
      " - 2s - loss: 0.7068 - acc: 0.6182\n",
      "Epoch 3/12\n",
      " - 3s - loss: 0.6403 - acc: 0.6592\n",
      "Epoch 4/12\n",
      " - 3s - loss: 0.6090 - acc: 0.6788\n",
      "Epoch 5/12\n",
      " - 3s - loss: 0.5912 - acc: 0.6911\n",
      "Epoch 6/12\n",
      " - 3s - loss: 0.5784 - acc: 0.7000\n",
      "Epoch 7/12\n",
      " - 3s - loss: 0.5681 - acc: 0.7083\n",
      "Epoch 8/12\n",
      " - 3s - loss: 0.5593 - acc: 0.7154\n",
      "Epoch 9/12\n",
      " - 3s - loss: 0.5515 - acc: 0.7217\n",
      "Epoch 10/12\n",
      " - 3s - loss: 0.5445 - acc: 0.7276\n",
      "Epoch 11/12\n",
      " - 3s - loss: 0.5381 - acc: 0.7325\n",
      "Epoch 12/12\n",
      " - 3s - loss: 0.5320 - acc: 0.7371\n"
     ]
    }
   ],
   "source": [
    "pipeline_fit = pipeline.fit(x_train_res, y_train_res)"
   ]
  },
  {
   "cell_type": "code",
   "execution_count": 40,
   "metadata": {},
   "outputs": [
    {
     "data": {
      "image/png": "[encoded data removed]",
      "text/plain": [
       "<Figure size 432x288 with 1 Axes>"
      ]
     },
     "metadata": {},
     "output_type": "display_data"
    }
   ],
   "source": [
    "predict_train = pipeline.predict_proba(x_train)[:,1]\n",
    "fpr, tpr, threshold = metrics.roc_curve(y_train, predict_train)\n",
    "roc_auc = metrics.auc(fpr, tpr)\n",
    "\n",
    "# method I: plt\n",
    "import matplotlib.pyplot as plt\n",
    "plt.title('ROC curve for train')\n",
    "plt.plot(fpr, tpr, 'b', label = 'AUC = %0.2f' % roc_auc)\n",
    "plt.legend(loc = 'lower right')\n",
    "plt.plot([0, 1], [0, 1],'r--')\n",
    "plt.xlim([0, 1])\n",
    "plt.ylim([0, 1])\n",
    "plt.ylabel('True Positive Rate')\n",
    "plt.xlabel('False Positive Rate')\n",
    "plt.show()"
   ]
  },
  {
   "cell_type": "code",
   "execution_count": 41,
   "metadata": {},
   "outputs": [
    {
     "data": {
      "image/png": "[encoded data removed]",
      "text/plain": [
       "<Figure size 432x288 with 1 Axes>"
      ]
     },
     "metadata": {},
     "output_type": "display_data"
    }
   ],
   "source": [
    "predict_test = pipeline.predict_proba(x_test)[:,1]\n",
    "fpr, tpr, threshold = metrics.roc_curve(y_test, predict_test)\n",
    "roc_auc = metrics.auc(fpr, tpr)\n",
    "\n",
    "# method I: plt\n",
    "import matplotlib.pyplot as plt\n",
    "plt.title('ROC curve for test')\n",
    "plt.plot(fpr, tpr, 'b', label = 'AUC = %0.2f' % roc_auc)\n",
    "plt.legend(loc = 'lower right')\n",
    "plt.plot([0, 1], [0, 1],'r--')\n",
    "plt.xlim([0, 1])\n",
    "plt.ylim([0, 1])\n",
    "plt.ylabel('True Positive Rate')\n",
    "plt.xlabel('False Positive Rate')\n",
    "plt.show()"
   ]
  },
  {
   "cell_type": "code",
   "execution_count": 42,
   "metadata": {},
   "outputs": [
    {
     "data": {
      "image/png": "[encoded data removed]",
      "text/plain": [
       "<Figure size 432x288 with 1 Axes>"
      ]
     },
     "metadata": {},
     "output_type": "display_data"
    }
   ],
   "source": [
    "predict_valid = pipeline.predict_proba(x_valid)[:,1]\n",
    "fpr, tpr, threshold = metrics.roc_curve(y_valid, predict_valid)\n",
    "roc_auc = metrics.auc(fpr, tpr)\n",
    "\n",
    "# method I: plt\n",
    "import matplotlib.pyplot as plt\n",
    "plt.title('ROC curve for validation set')\n",
    "plt.plot(fpr, tpr, 'b', label = 'AUC = %0.2f' % roc_auc)\n",
    "plt.legend(loc = 'lower right')\n",
    "plt.plot([0, 1], [0, 1],'r--')\n",
    "plt.xlim([0, 1])\n",
    "plt.ylim([0, 1])\n",
    "plt.ylabel('True Positive Rate')\n",
    "plt.xlabel('False Positive Rate')\n",
    "plt.show()"
   ]
  },
  {
   "cell_type": "markdown",
   "metadata": {
    "_cell_guid": "d6458c18-5bda-4198-ad2d-41469b4aece9",
    "_uuid": "9772fb49d67ea47e9978462f07dd800268ed1019"
   },
   "source": [
    "# Predict data for submission\n",
    "\n"
   ]
  },
  {
   "cell_type": "code",
   "execution_count": 43,
   "metadata": {},
   "outputs": [],
   "source": [
    "# release memory\n",
    "del trainset, validset, x_train, x_test, x_valid, y_train, y_test, y_valid"
   ]
  },
  {
   "cell_type": "code",
   "execution_count": 44,
   "metadata": {
    "_cell_guid": "d60995d6-84ac-48d4-85f6-bde29cd0670e",
    "_uuid": "fa193a82b50064a8d42d380e8a38e3ff302c9015"
   },
   "outputs": [],
   "source": [
    "# load data\n",
    "submission = pd.read_csv('C:/Users/Python/Documents/DonorsChooseProject/data/submission_data.csv', low_memory = False)"
   ]
  },
  {
   "cell_type": "code",
   "execution_count": 45,
   "metadata": {},
   "outputs": [],
   "source": [
    "# predict probabilities\n",
    "x_submission = submission.loc[:, features]\n",
    "submission = submission.loc[:, ['id']]"
   ]
  },
  {
   "cell_type": "code",
   "execution_count": 46,
   "metadata": {},
   "outputs": [],
   "source": [
    "submission = submission.assign(project_is_approved = pipeline.predict_proba(x_submission)[:, 1])"
   ]
  },
  {
   "cell_type": "code",
   "execution_count": 47,
   "metadata": {
    "_cell_guid": "ab0fdc7a-dd3e-4a79-a22f-46f0fc7c707d",
    "_uuid": "8525438bb18f2b59ef1551289950f7514d7b7034"
   },
   "outputs": [],
   "source": [
    "# write csv \n",
    "submission.to_csv('C:/Users/Python/Documents/DonorsChooseProject/submission.csv', index = False)"
   ]
  },
  {
   "cell_type": "code",
   "execution_count": null,
   "metadata": {},
   "outputs": [],
   "source": []
  },
  {
   "cell_type": "markdown",
   "metadata": {},
   "source": [
    "# Load all data"
   ]
  },
  {
   "cell_type": "code",
   "execution_count": null,
   "metadata": {},
   "outputs": [],
   "source": [
    "def read_csv(filename, print_every = 1000):\n",
    "    csv_data = []\n",
    "    f = open(filename, 'r')\n",
    "    csv_file = csv.DictReader(f)\n",
    "    i = 1\n",
    "    for row in csv_file:\n",
    "        csv_data.append(row)\n",
    "        if i % print_every == 0:\n",
    "            print('Row # ' + i + ' read.')\n",
    "        i += 1\n",
    "    f.close()\n",
    "    return csv_data"
   ]
  },
  {
   "cell_type": "code",
   "execution_count": null,
   "metadata": {},
   "outputs": [],
   "source": [
    "train = pd.read_csv('../data/train.csv')"
   ]
  },
  {
   "cell_type": "code",
   "execution_count": null,
   "metadata": {},
   "outputs": [],
   "source": [
    "test = pd.read_csv('../data/test.csv')"
   ]
  },
  {
   "cell_type": "code",
   "execution_count": null,
   "metadata": {},
   "outputs": [],
   "source": [
    "resources = pd.read_csv('../data/resources.csv')"
   ]
  }
 ],
 "metadata": {
  "kernelspec": {
   "display_name": "Python [default]",
   "language": "python",
   "name": "python3"
  },
  "language_info": {
   "codemirror_mode": {
    "name": "ipython",
    "version": 3
   },
   "file_extension": ".py",
   "mimetype": "text/x-python",
   "name": "python",
   "nbconvert_exporter": "python",
   "pygments_lexer": "ipython3",
   "version": "3.5.5"
  }
 },
 "nbformat": 4,
 "nbformat_minor": 1
}
