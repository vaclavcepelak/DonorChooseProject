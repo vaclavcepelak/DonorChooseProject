{
 "cells": [
  {
   "cell_type": "markdown",
   "metadata": {
    "_cell_guid": "53e4cfb1-4316-46d1-a753-7d4045bb4da2",
    "_uuid": "083760abcfaab135111dbed019a0d630134f30a2"
   },
   "source": [
    "# Introduction\n",
    "\n",
    "\n",
    "\n",
    "# Starter Code\n",
    "\n",
    "## Data Preparation\n"
   ]
  },
  {
   "cell_type": "code",
   "execution_count": 1,
   "metadata": {},
   "outputs": [
    {
     "name": "stderr",
     "output_type": "stream",
     "text": [
      "C:\\Users\\Python\\Anaconda3\\lib\\site-packages\\h5py\\__init__.py:36: FutureWarning: Conversion of the second argument of issubdtype from `float` to `np.floating` is deprecated. In future, it will be treated as `np.float64 == np.dtype(float).type`.\n",
      "  from ._conv import register_converters as _register_converters\n",
      "Using TensorFlow backend.\n"
     ]
    }
   ],
   "source": [
    "import numpy as np\n",
    "import pandas as pd\n",
    "import keras\n",
    "import tensorflow as tf\n",
    "from sklearn.model_selection import train_test_split\n",
    "from sklearn import preprocessing\n",
    "from sklearn import metrics\n",
    "import csv\n",
    "from imblearn.over_sampling import SMOTE\n",
    "from imblearn.combine import SMOTEENN\n",
    "\n",
    "TARGET = 'project_is_approved'\n",
    "EXCLUDE_FEATURES = ['id', 'school_state', 'project_subject_subcategories']"
   ]
  },
  {
   "cell_type": "code",
   "execution_count": 2,
   "metadata": {},
   "outputs": [],
   "source": [
    "# read data sets\n",
    "trainset = pd.read_csv('E:/DonorChooseProject/outputs/train.csv')\n",
    "validset = pd.read_csv('E:/DonorChooseProject/outputs/test.csv')"
   ]
  },
  {
   "cell_type": "code",
   "execution_count": 3,
   "metadata": {},
   "outputs": [],
   "source": [
    "# create x matrix and y vector\n",
    "EXCLUDE_FEATURES.append(TARGET)\n",
    "features = [var for var in list(trainset) if var not in EXCLUDE_FEATURES]\n",
    "\n",
    "y = pd.get_dummies(trainset.loc[:, TARGET])['Approved']\n",
    "y_valid = pd.get_dummies(validset.loc[:, TARGET])['Approved']\n",
    "x = trainset.loc[:, features]\n",
    "x_valid = validset.loc[:, features]"
   ]
  },
  {
   "cell_type": "code",
   "execution_count": 4,
   "metadata": {},
   "outputs": [],
   "source": [
    "# split x to train/test\n",
    "x_train, x_test, y_train, y_test = train_test_split(x, y,\n",
    "                                                    test_size = .2,\n",
    "                                                    random_state = 2911)\n",
    "del x, y"
   ]
  },
  {
   "cell_type": "code",
   "execution_count": 5,
   "metadata": {},
   "outputs": [],
   "source": [
    "# # standard scaler from the trainset\n",
    "# scaler = preprocessing.StandardScaler().fit(x_train)\n",
    "\n",
    "# # apply to x_train and x_test\n",
    "# x_train = scaler.transform(x_train)\n",
    "# x_test = scaler.transform(x_test)\n",
    "# x_valid = scaler.transform(x_valid)"
   ]
  },
  {
   "cell_type": "code",
   "execution_count": 6,
   "metadata": {},
   "outputs": [],
   "source": [
    "# apply smote\n",
    "sm = SMOTE(random_state = 2911)\n",
    "x_train_res, y_train_res = sm.fit_sample(x_train, y_train)"
   ]
  },
  {
   "cell_type": "markdown",
   "metadata": {
    "_cell_guid": "ccf0a6ed-6579-4c32-8898-1a41857249f9",
    "_uuid": "d485ab8f82c9308f1bdb06da4c8b7c8e0feaa965"
   },
   "source": [
    "## Sample Model Code\n",
    "\n",
    "```\n",
    "fashion_model = Sequential()\n",
    "fashion_model.add(Conv2D(12, kernel_size=(3, 3), strides=2,\n",
    "                 activation='relu',\n",
    "                 input_shape=(img_rows, img_cols, 1)))\n",
    "fashion_model.add(Conv2D(12, (3, 3), strides=2, activation='relu'))\n",
    "fashion_model.add(Flatten())\n",
    "fashion_model.add(Dense(128, activation='relu'))\n",
    "fashion_model.add(Dense(num_classes, activation='softmax'))\n",
    "\n",
    "fashion_model.compile(loss=keras.losses.categorical_crossentropy,\n",
    "              optimizer='adam',\n",
    "              metrics=['accuracy'])\n",
    "\n",
    "fashion_model.fit(train_x, train_y,\n",
    "          batch_size=batch_size,\n",
    "          epochs=epochs,\n",
    "          validation_split = 0.2)\n",
    "```"
   ]
  },
  {
   "cell_type": "markdown",
   "metadata": {
    "_cell_guid": "97fdec45-36d0-45cd-8273-3765c477ef66",
    "_uuid": "8fff3f44f63059c6451d9b7a71cee61641d6622a"
   },
   "source": [
    "# Specify the model\n",
    "Specify, compile and fit a model `donor_model`."
   ]
  },
  {
   "cell_type": "code",
   "execution_count": 7,
   "metadata": {},
   "outputs": [],
   "source": [
    "### Best model:\n",
    "# l2 = 0.0001\n",
    "# lr = 0.00001\n",
    "# batch_size = 100\n",
    "# epochs = 25\n",
    "# layer = 256\n",
    "# dropout = 0.4"
   ]
  },
  {
   "cell_type": "code",
   "execution_count": 8,
   "metadata": {
    "_cell_guid": "3d88fc9c-e4c1-4f97-b2b5-1f2c1bd079c6",
    "_uuid": "3fcdca52b62a612b5f9c70e649a5f2b7e3b27a5a"
   },
   "outputs": [],
   "source": [
    "from keras.models import Sequential\n",
    "from keras.layers import Dense, Flatten, Conv2D, Dropout\n",
    "from keras import regularizers\n",
    "\n",
    "# model <- keras_model_sequential() \n",
    "# model %>% \n",
    "#   layer_dense(units = 256, activation = 'relu', input_shape = c(n_features), kernel_initializer = 'glorot_uniform') %>% \n",
    "#   layer_dropout(rate = 0) %>%\n",
    "#   layer_dense(units = 128, activation = 'relu', kernel_initializer = 'glorot_uniform') %>% \n",
    "#   layer_dropout(rate = 0) %>%\n",
    "#   layer_dense(units = 64, activation = 'relu', kernel_initializer = 'glorot_uniform') %>% \n",
    "#   layer_dropout(rate = 0) %>%\n",
    "#   layer_dense(units = 1, kernel_initializer = 'glorot_uniform', activation = 'sigmoid')\n",
    "\n",
    "def donor_model():\n",
    "    donor_model = Sequential()\n",
    "    # Specify the rest of the model\n",
    "#     donor_model.add(Dense(512, activation = 'relu', input_dim = x_train.shape[1]))\n",
    "#     Dropout(0.5)\n",
    "    donor_model.add(Dense(256, activation = 'relu', input_dim = x_train.shape[1], \n",
    "                          kernel_regularizer = regularizers.l2(0.0001)))\n",
    "    donor_model.add(Dropout(0.4))\n",
    "#     donor_model.add(Dense(128, activation = 'relu'))\n",
    "#     Dropout(0.5)\n",
    "#     donor_model.add(Dense(64, activation = 'relu'))\n",
    "#     Dropout(0.5)\n",
    "#     donor_model.add(Dense(32, activation = 'relu'))\n",
    "#     Dropout(0.5)\n",
    "#     donor_model.add(Dense(16, activation = 'relu'))\n",
    "#     Dropout(0.5)\n",
    "#     donor_model.add(Dense(8, activation = 'relu'))\n",
    "    donor_model.add(Dense(1, activation = 'sigmoid'))\n",
    "\n",
    "    # Compile the model\n",
    "    donor_model.compile(loss = keras.losses.binary_crossentropy,\n",
    "                        optimizer = keras.optimizers.Adam(lr = 0.00001),\n",
    "                        metrics = ['accuracy'])\n",
    "    \n",
    "    return donor_model\n"
   ]
  },
  {
   "cell_type": "code",
   "execution_count": 9,
   "metadata": {},
   "outputs": [],
   "source": [
    "# https://machinelearningmastery.com/use-keras-deep-learning-models-scikit-learn-python/\n",
    "from keras.wrappers.scikit_learn import KerasClassifier\n",
    "from sklearn.model_selection import StratifiedKFold\n",
    "from sklearn.model_selection import cross_val_score\n",
    "from sklearn.pipeline import Pipeline\n",
    "\n",
    "\n",
    "# sm = SMOTE(random_state = 2911)\n",
    "# smote_enn = SMOTEENN(smote = sm)\n",
    "\n",
    "estimators = []\n",
    "estimators.append(('standardize', preprocessing.StandardScaler()))\n",
    "estimators.append(('rnn', KerasClassifier(build_fn = donor_model, epochs = 25, batch_size = 100, verbose = 2)))\n",
    "\n",
    "pipeline = Pipeline(estimators)"
   ]
  },
  {
   "cell_type": "code",
   "execution_count": 10,
   "metadata": {},
   "outputs": [
    {
     "name": "stdout",
     "output_type": "stream",
     "text": [
      "Epoch 1/25\n",
      " - 8s - loss: 0.9253 - acc: 0.5362\n",
      "Epoch 2/25\n",
      " - 5s - loss: 0.8085 - acc: 0.5909\n",
      "Epoch 3/25\n",
      " - 5s - loss: 0.7624 - acc: 0.6172\n",
      "Epoch 4/25\n",
      " - 7s - loss: 0.7327 - acc: 0.6348\n",
      "Epoch 5/25\n",
      " - 7s - loss: 0.7165 - acc: 0.6422\n",
      "Epoch 6/25\n",
      " - 9s - loss: 0.7032 - acc: 0.6500\n",
      "Epoch 7/25\n",
      " - 7s - loss: 0.6863 - acc: 0.6615\n",
      "Epoch 8/25\n",
      " - 7s - loss: 0.6787 - acc: 0.6658\n",
      "Epoch 9/25\n",
      " - 9s - loss: 0.6713 - acc: 0.6713\n",
      "Epoch 10/25\n",
      " - 8s - loss: 0.6615 - acc: 0.6799\n",
      "Epoch 11/25\n",
      " - 8s - loss: 0.6572 - acc: 0.6800\n",
      "Epoch 12/25\n",
      " - 8s - loss: 0.6554 - acc: 0.6830\n",
      "Epoch 13/25\n",
      " - 7s - loss: 0.6470 - acc: 0.6881\n",
      "Epoch 14/25\n",
      " - 6s - loss: 0.6425 - acc: 0.6896\n",
      "Epoch 15/25\n",
      " - 6s - loss: 0.6363 - acc: 0.6915\n",
      "Epoch 16/25\n",
      " - 5s - loss: 0.6295 - acc: 0.6964\n",
      "Epoch 17/25\n",
      " - 5s - loss: 0.6244 - acc: 0.7004\n",
      "Epoch 18/25\n",
      " - 5s - loss: 0.6189 - acc: 0.7030\n",
      "Epoch 19/25\n",
      " - 6s - loss: 0.6195 - acc: 0.7046\n",
      "Epoch 20/25\n",
      " - 5s - loss: 0.6090 - acc: 0.7113\n",
      "Epoch 21/25\n",
      " - 5s - loss: 0.6103 - acc: 0.7074\n",
      "Epoch 22/25\n",
      " - 5s - loss: 0.6059 - acc: 0.7079\n",
      "Epoch 23/25\n",
      " - 5s - loss: 0.5964 - acc: 0.7175\n",
      "Epoch 24/25\n",
      " - 5s - loss: 0.5917 - acc: 0.7193\n",
      "Epoch 25/25\n",
      " - 5s - loss: 0.5940 - acc: 0.7203\n"
     ]
    }
   ],
   "source": [
    "pipeline_fit = pipeline.fit(x_train_res, y_train_res)"
   ]
  },
  {
   "cell_type": "code",
   "execution_count": 11,
   "metadata": {},
   "outputs": [
    {
     "data": {
      "text/plain": [
       "<Figure size 640x480 with 1 Axes>"
      ]
     },
     "metadata": {},
     "output_type": "display_data"
    }
   ],
   "source": [
    "predict_train = pipeline.predict_proba(x_train)[:,1]\n",
    "fpr, tpr, threshold = metrics.roc_curve(y_train, predict_train)\n",
    "roc_auc = metrics.auc(fpr, tpr)\n",
    "\n",
    "# method I: plt\n",
    "import matplotlib.pyplot as plt\n",
    "plt.title('ROC curve for train')\n",
    "plt.plot(fpr, tpr, 'b', label = 'AUC = %0.2f' % roc_auc)\n",
    "plt.legend(loc = 'lower right')\n",
    "plt.plot([0, 1], [0, 1],'r--')\n",
    "plt.xlim([0, 1])\n",
    "plt.ylim([0, 1])\n",
    "plt.ylabel('True Positive Rate')\n",
    "plt.xlabel('False Positive Rate')\n",
    "plt.show()"
   ]
  },
  {
   "cell_type": "code",
   "execution_count": 12,
   "metadata": {},
   "outputs": [
    {
     "data": {
      "image/png": "[encoded data removed]",
      "text/plain": [
       "<Figure size 432x288 with 1 Axes>"
      ]
     },
     "metadata": {},
     "output_type": "display_data"
    }
   ],
   "source": [
    "predict_test = pipeline.predict_proba(x_test)[:,1]\n",
    "fpr, tpr, threshold = metrics.roc_curve(y_test, predict_test)\n",
    "roc_auc = metrics.auc(fpr, tpr)\n",
    "\n",
    "# method I: plt\n",
    "import matplotlib.pyplot as plt\n",
    "plt.title('ROC curve for test')\n",
    "plt.plot(fpr, tpr, 'b', label = 'AUC = %0.2f' % roc_auc)\n",
    "plt.legend(loc = 'lower right')\n",
    "plt.plot([0, 1], [0, 1],'r--')\n",
    "plt.xlim([0, 1])\n",
    "plt.ylim([0, 1])\n",
    "plt.ylabel('True Positive Rate')\n",
    "plt.xlabel('False Positive Rate')\n",
    "plt.show()"
   ]
  },
  {
   "cell_type": "code",
   "execution_count": 13,
   "metadata": {},
   "outputs": [
    {
     "data": {
      "image/png": "[encoded data removed]",
      "text/plain": [
       "<Figure size 432x288 with 1 Axes>"
      ]
     },
     "metadata": {},
     "output_type": "display_data"
    }
   ],
   "source": [
    "predict_valid = pipeline.predict_proba(x_valid)[:,1]\n",
    "fpr, tpr, threshold = metrics.roc_curve(y_valid, predict_valid)\n",
    "roc_auc = metrics.auc(fpr, tpr)\n",
    "\n",
    "# method I: plt\n",
    "import matplotlib.pyplot as plt\n",
    "plt.title('ROC curve for validation set')\n",
    "plt.plot(fpr, tpr, 'b', label = 'AUC = %0.2f' % roc_auc)\n",
    "plt.legend(loc = 'lower right')\n",
    "plt.plot([0, 1], [0, 1],'r--')\n",
    "plt.xlim([0, 1])\n",
    "plt.ylim([0, 1])\n",
    "plt.ylabel('True Positive Rate')\n",
    "plt.xlabel('False Positive Rate')\n",
    "plt.show()"
   ]
  },
  {
   "cell_type": "markdown",
   "metadata": {
    "_cell_guid": "d6458c18-5bda-4198-ad2d-41469b4aece9",
    "_uuid": "9772fb49d67ea47e9978462f07dd800268ed1019"
   },
   "source": [
    "# Predict data for submission\n",
    "\n"
   ]
  },
  {
   "cell_type": "code",
   "execution_count": 14,
   "metadata": {},
   "outputs": [],
   "source": [
    "# release memory\n",
    "del trainset, validset, x_train, x_test, x_valid, y_train, y_test, y_valid"
   ]
  },
  {
   "cell_type": "code",
   "execution_count": 15,
   "metadata": {
    "_cell_guid": "d60995d6-84ac-48d4-85f6-bde29cd0670e",
    "_uuid": "fa193a82b50064a8d42d380e8a38e3ff302c9015"
   },
   "outputs": [],
   "source": [
    "# load data\n",
    "submission = pd.read_csv('E:/DonorChooseProject/outputs/submission_data.csv', low_memory = False)"
   ]
  },
  {
   "cell_type": "code",
   "execution_count": 16,
   "metadata": {},
   "outputs": [],
   "source": [
    "# predict probabilities\n",
    "x_submission = submission.loc[:, features]\n",
    "submission = submission.loc[:, ['id']]"
   ]
  },
  {
   "cell_type": "code",
   "execution_count": 17,
   "metadata": {},
   "outputs": [],
   "source": [
    "submission = submission.assign(project_is_approved = pipeline.predict_proba(x_submission)[:, 1])"
   ]
  },
  {
   "cell_type": "code",
   "execution_count": 18,
   "metadata": {
    "_cell_guid": "ab0fdc7a-dd3e-4a79-a22f-46f0fc7c707d",
    "_uuid": "8525438bb18f2b59ef1551289950f7514d7b7034"
   },
   "outputs": [],
   "source": [
    "# write csv \n",
    "submission.to_csv('E:/DonorChooseProject/outputs/submission.csv', index = False)"
   ]
  }
 ],
 "metadata": {
  "kernelspec": {
   "display_name": "Python [default]",
   "language": "python",
   "name": "python3"
  },
  "language_info": {
   "codemirror_mode": {
    "name": "ipython",
    "version": 3
   },
   "file_extension": ".py",
   "mimetype": "text/x-python",
   "name": "python",
   "nbconvert_exporter": "python",
   "pygments_lexer": "ipython3",
   "version": "3.5.5"
  }
 },
 "nbformat": 4,
 "nbformat_minor": 1
}
